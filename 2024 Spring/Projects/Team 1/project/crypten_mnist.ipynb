{
 "cells": [
  {
   "cell_type": "code",
   "execution_count": 5,
   "metadata": {},
   "outputs": [
    {
     "name": "stdout",
     "output_type": "stream",
     "text": [
      "Defaulting to user installation because normal site-packages is not writeable\n",
      "Collecting crypten\n",
      "  Downloading crypten-0.4.0-py3-none-any.whl (245 kB)\n",
      "\u001b[K     |████████████████████████████████| 245 kB 16.9 MB/s eta 0:00:01\n",
      "\u001b[?25hRequirement already satisfied: torchvision>=0.9.1 in /sfs/qumulo/qhome/zj6nw/.local/lib/python3.8/site-packages (from crypten) (0.13.1)\n",
      "Collecting scipy>=1.6.0\n",
      "  Downloading scipy-1.9.3-cp38-cp38-manylinux_2_17_x86_64.manylinux2014_x86_64.whl (33.8 MB)\n",
      "\u001b[K     |████████████████████████████████| 33.8 MB 55.7 MB/s eta 0:00:01\n",
      "\u001b[?25hCollecting omegaconf>=2.0.6\n",
      "  Downloading omegaconf-2.2.3-py3-none-any.whl (79 kB)\n",
      "\u001b[K     |████████████████████████████████| 79 kB 2.5 MB/s  eta 0:00:01\n",
      "\u001b[?25hRequirement already satisfied: pyyaml>=5.3.1 in /sfs/applications/202206/software/standard/compiler/gcc/9.2.0/jupyter_conda/2020.11-py3.8/lib/python3.8/site-packages (from crypten) (5.3.1)\n",
      "Collecting pandas>=1.2.2\n",
      "  Downloading pandas-1.5.1-cp38-cp38-manylinux_2_17_x86_64.manylinux2014_x86_64.whl (12.2 MB)\n",
      "\u001b[K     |████████████████████████████████| 12.2 MB 63.1 MB/s eta 0:00:01\n",
      "\u001b[?25hRequirement already satisfied: future in /sfs/applications/202206/software/standard/compiler/gcc/9.2.0/jupyter_conda/2020.11-py3.8/lib/python3.8/site-packages (from crypten) (0.18.2)\n",
      "Requirement already satisfied: torch>=1.7.0 in /sfs/qumulo/qhome/zj6nw/.local/lib/python3.8/site-packages (from crypten) (1.12.1)\n",
      "Requirement already satisfied: tensorboard in /sfs/qumulo/qhome/zj6nw/.local/lib/python3.8/site-packages (from crypten) (2.9.1)\n",
      "Collecting onnx>=1.7.0\n",
      "  Downloading onnx-1.12.0-cp38-cp38-manylinux_2_17_x86_64.manylinux2014_x86_64.whl (13.1 MB)\n",
      "\u001b[K     |████████████████████████████████| 13.1 MB 74.1 MB/s eta 0:00:01    |█████████████▊                  | 5.6 MB 74.1 MB/s eta 0:00:01     |███████████████████████▍        | 9.6 MB 74.1 MB/s eta 0:00:01\n",
      "\u001b[?25hCollecting sklearn\n",
      "  Downloading sklearn-0.0.tar.gz (1.1 kB)\n",
      "Requirement already satisfied: typing-extensions in /sfs/applications/202206/software/standard/compiler/gcc/9.2.0/jupyter_conda/2020.11-py3.8/lib/python3.8/site-packages (from torchvision>=0.9.1->crypten) (3.7.4.3)\n",
      "Requirement already satisfied: pillow!=8.3.*,>=5.3.0 in /sfs/applications/202206/software/standard/compiler/gcc/9.2.0/jupyter_conda/2020.11-py3.8/lib/python3.8/site-packages (from torchvision>=0.9.1->crypten) (8.0.1)\n",
      "Requirement already satisfied: requests in /sfs/applications/202206/software/standard/compiler/gcc/9.2.0/jupyter_conda/2020.11-py3.8/lib/python3.8/site-packages (from torchvision>=0.9.1->crypten) (2.24.0)\n",
      "Requirement already satisfied: numpy in /sfs/qumulo/qhome/zj6nw/.local/lib/python3.8/site-packages (from torchvision>=0.9.1->crypten) (1.23.2)\n",
      "Collecting antlr4-python3-runtime==4.9.*\n",
      "  Downloading antlr4-python3-runtime-4.9.3.tar.gz (117 kB)\n",
      "\u001b[K     |████████████████████████████████| 117 kB 62.6 MB/s eta 0:00:01\n",
      "\u001b[?25hRequirement already satisfied: pytz>=2020.1 in /sfs/applications/202206/software/standard/compiler/gcc/9.2.0/jupyter_conda/2020.11-py3.8/lib/python3.8/site-packages (from pandas>=1.2.2->crypten) (2020.1)\n",
      "Requirement already satisfied: python-dateutil>=2.8.1 in /sfs/applications/202206/software/standard/compiler/gcc/9.2.0/jupyter_conda/2020.11-py3.8/lib/python3.8/site-packages (from pandas>=1.2.2->crypten) (2.8.1)\n",
      "Requirement already satisfied: protobuf<3.20,>=3.9.2 in /sfs/qumulo/qhome/zj6nw/.local/lib/python3.8/site-packages (from tensorboard->crypten) (3.19.4)\n",
      "Requirement already satisfied: werkzeug>=1.0.1 in /sfs/applications/202206/software/standard/compiler/gcc/9.2.0/jupyter_conda/2020.11-py3.8/lib/python3.8/site-packages (from tensorboard->crypten) (1.0.1)\n",
      "Requirement already satisfied: tensorboard-data-server<0.7.0,>=0.6.0 in /sfs/qumulo/qhome/zj6nw/.local/lib/python3.8/site-packages (from tensorboard->crypten) (0.6.1)\n",
      "Requirement already satisfied: tensorboard-plugin-wit>=1.6.0 in /sfs/qumulo/qhome/zj6nw/.local/lib/python3.8/site-packages (from tensorboard->crypten) (1.8.1)\n",
      "Requirement already satisfied: google-auth<3,>=1.6.3 in /sfs/qumulo/qhome/zj6nw/.local/lib/python3.8/site-packages (from tensorboard->crypten) (2.11.0)\n",
      "Requirement already satisfied: markdown>=2.6.8 in /sfs/qumulo/qhome/zj6nw/.local/lib/python3.8/site-packages (from tensorboard->crypten) (3.4.1)\n",
      "Requirement already satisfied: google-auth-oauthlib<0.5,>=0.4.1 in /sfs/qumulo/qhome/zj6nw/.local/lib/python3.8/site-packages (from tensorboard->crypten) (0.4.6)\n",
      "Requirement already satisfied: setuptools>=41.0.0 in /sfs/applications/202206/software/standard/compiler/gcc/9.2.0/jupyter_conda/2020.11-py3.8/lib/python3.8/site-packages (from tensorboard->crypten) (50.3.1.post20201107)\n",
      "Requirement already satisfied: grpcio>=1.24.3 in /sfs/qumulo/qhome/zj6nw/.local/lib/python3.8/site-packages (from tensorboard->crypten) (1.48.1)\n",
      "Requirement already satisfied: absl-py>=0.4 in /sfs/qumulo/qhome/zj6nw/.local/lib/python3.8/site-packages (from tensorboard->crypten) (1.2.0)\n",
      "Requirement already satisfied: wheel>=0.26 in /sfs/applications/202206/software/standard/compiler/gcc/9.2.0/jupyter_conda/2020.11-py3.8/lib/python3.8/site-packages (from tensorboard->crypten) (0.35.1)\n",
      "Requirement already satisfied: scikit-learn in /sfs/applications/202206/software/standard/compiler/gcc/9.2.0/jupyter_conda/2020.11-py3.8/lib/python3.8/site-packages (from sklearn->crypten) (0.23.2)\n",
      "Requirement already satisfied: chardet<4,>=3.0.2 in /sfs/applications/202206/software/standard/compiler/gcc/9.2.0/jupyter_conda/2020.11-py3.8/lib/python3.8/site-packages (from requests->torchvision>=0.9.1->crypten) (3.0.4)\n",
      "Requirement already satisfied: urllib3!=1.25.0,!=1.25.1,<1.26,>=1.21.1 in /sfs/applications/202206/software/standard/compiler/gcc/9.2.0/jupyter_conda/2020.11-py3.8/lib/python3.8/site-packages (from requests->torchvision>=0.9.1->crypten) (1.25.11)\n",
      "Requirement already satisfied: certifi>=2017.4.17 in /sfs/applications/202206/software/standard/compiler/gcc/9.2.0/jupyter_conda/2020.11-py3.8/lib/python3.8/site-packages (from requests->torchvision>=0.9.1->crypten) (2021.10.8)\n",
      "Requirement already satisfied: idna<3,>=2.5 in /sfs/applications/202206/software/standard/compiler/gcc/9.2.0/jupyter_conda/2020.11-py3.8/lib/python3.8/site-packages (from requests->torchvision>=0.9.1->crypten) (2.10)\n",
      "Requirement already satisfied: six>=1.5 in /sfs/applications/202206/software/standard/compiler/gcc/9.2.0/jupyter_conda/2020.11-py3.8/lib/python3.8/site-packages (from python-dateutil>=2.8.1->pandas>=1.2.2->crypten) (1.15.0)\n",
      "Requirement already satisfied: pyasn1-modules>=0.2.1 in /sfs/qumulo/qhome/zj6nw/.local/lib/python3.8/site-packages (from google-auth<3,>=1.6.3->tensorboard->crypten) (0.2.8)\n",
      "Requirement already satisfied: cachetools<6.0,>=2.0.0 in /sfs/qumulo/qhome/zj6nw/.local/lib/python3.8/site-packages (from google-auth<3,>=1.6.3->tensorboard->crypten) (5.2.0)\n",
      "Requirement already satisfied: rsa<5,>=3.1.4; python_version >= \"3.6\" in /sfs/qumulo/qhome/zj6nw/.local/lib/python3.8/site-packages (from google-auth<3,>=1.6.3->tensorboard->crypten) (4.9)\n",
      "Requirement already satisfied: importlib-metadata>=4.4; python_version < \"3.10\" in /sfs/qumulo/qhome/zj6nw/.local/lib/python3.8/site-packages (from markdown>=2.6.8->tensorboard->crypten) (4.12.0)\n",
      "Requirement already satisfied: requests-oauthlib>=0.7.0 in /sfs/qumulo/qhome/zj6nw/.local/lib/python3.8/site-packages (from google-auth-oauthlib<0.5,>=0.4.1->tensorboard->crypten) (1.3.1)\n",
      "Requirement already satisfied: threadpoolctl>=2.0.0 in /sfs/applications/202206/software/standard/compiler/gcc/9.2.0/jupyter_conda/2020.11-py3.8/lib/python3.8/site-packages (from scikit-learn->sklearn->crypten) (2.1.0)\n",
      "Requirement already satisfied: joblib>=0.11 in /sfs/applications/202206/software/standard/compiler/gcc/9.2.0/jupyter_conda/2020.11-py3.8/lib/python3.8/site-packages (from scikit-learn->sklearn->crypten) (0.17.0)\n",
      "Requirement already satisfied: pyasn1<0.5.0,>=0.4.6 in /sfs/qumulo/qhome/zj6nw/.local/lib/python3.8/site-packages (from pyasn1-modules>=0.2.1->google-auth<3,>=1.6.3->tensorboard->crypten) (0.4.8)\n",
      "Requirement already satisfied: zipp>=0.5 in /sfs/applications/202206/software/standard/compiler/gcc/9.2.0/jupyter_conda/2020.11-py3.8/lib/python3.8/site-packages (from importlib-metadata>=4.4; python_version < \"3.10\"->markdown>=2.6.8->tensorboard->crypten) (3.4.0)\n",
      "Requirement already satisfied: oauthlib>=3.0.0 in /sfs/qumulo/qhome/zj6nw/.local/lib/python3.8/site-packages (from requests-oauthlib>=0.7.0->google-auth-oauthlib<0.5,>=0.4.1->tensorboard->crypten) (3.2.0)\n",
      "Building wheels for collected packages: sklearn, antlr4-python3-runtime\n",
      "  Building wheel for sklearn (setup.py) ... \u001b[?25ldone\n",
      "\u001b[?25h  Created wheel for sklearn: filename=sklearn-0.0-py2.py3-none-any.whl size=1316 sha256=9a11a95d9c69f4cb50557dcaf9236ca12c32192a3a4b3e985e13bb5f0e41619f\n",
      "  Stored in directory: /sfs/qumulo/qhome/zj6nw/.cache/pip/wheels/22/0b/40/fd3f795caaa1fb4c6cb738bc1f56100be1e57da95849bfc897\n",
      "  Building wheel for antlr4-python3-runtime (setup.py) ... \u001b[?25ldone\n",
      "\u001b[?25h  Created wheel for antlr4-python3-runtime: filename=antlr4_python3_runtime-4.9.3-py3-none-any.whl size=144574 sha256=3fe6a2422b9b12d0f805df7024faa002f0af91899a0b74b91003f5e6c69c633d\n",
      "  Stored in directory: /sfs/qumulo/qhome/zj6nw/.cache/pip/wheels/b1/a3/c2/6df046c09459b73cc9bb6c4401b0be6c47048baf9a1617c485\n",
      "Successfully built sklearn antlr4-python3-runtime\n",
      "Installing collected packages: scipy, antlr4-python3-runtime, omegaconf, pandas, onnx, sklearn, crypten\n",
      "\u001b[33m  WARNING: The scripts backend-test-tools, check-model and check-node are installed in '/home/zj6nw/.local/bin' which is not on PATH.\n",
      "  Consider adding this directory to PATH or, if you prefer to suppress this warning, use --no-warn-script-location.\u001b[0m\n",
      "Successfully installed antlr4-python3-runtime-4.9.3 crypten-0.4.0 omegaconf-2.2.3 onnx-1.12.0 pandas-1.5.1 scipy-1.9.3 sklearn-0.0\n",
      "Note: you may need to restart the kernel to use updated packages.\n"
     ]
    }
   ],
   "source": [
    "pip install crypten"
   ]
  },
  {
   "cell_type": "code",
   "execution_count": 1,
   "metadata": {},
   "outputs": [
    {
     "ename": "AttributeError",
     "evalue": "module 'torch._C' has no attribute 'HalfStorageBase'",
     "output_type": "error",
     "traceback": [
      "\u001b[0;31m---------------------------------------------------------------------------\u001b[0m",
      "\u001b[0;31mAttributeError\u001b[0m                            Traceback (most recent call last)",
      "\u001b[0;32m/tmp/ipykernel_406/355337588.py\u001b[0m in \u001b[0;36m<module>\u001b[0;34m\u001b[0m\n\u001b[1;32m      1\u001b[0m \u001b[0;31m#pip install crypten --user\u001b[0m\u001b[0;34m\u001b[0m\u001b[0;34m\u001b[0m\u001b[0;34m\u001b[0m\u001b[0m\n\u001b[0;32m----> 2\u001b[0;31m \u001b[0;32mimport\u001b[0m \u001b[0mcrypten\u001b[0m\u001b[0;34m\u001b[0m\u001b[0;34m\u001b[0m\u001b[0m\n\u001b[0m\u001b[1;32m      3\u001b[0m \u001b[0;34m\u001b[0m\u001b[0m\n\u001b[1;32m      4\u001b[0m \u001b[0;32mimport\u001b[0m \u001b[0mtorch\u001b[0m\u001b[0;34m\u001b[0m\u001b[0;34m\u001b[0m\u001b[0m\n\u001b[1;32m      5\u001b[0m \u001b[0;32mimport\u001b[0m \u001b[0mtorch\u001b[0m\u001b[0;34m.\u001b[0m\u001b[0mnn\u001b[0m \u001b[0;32mas\u001b[0m \u001b[0mnn\u001b[0m\u001b[0;34m\u001b[0m\u001b[0;34m\u001b[0m\u001b[0m\n",
      "\u001b[0;32m~/.local/lib/python3.8/site-packages/crypten/__init__.py\u001b[0m in \u001b[0;36m<module>\u001b[0;34m\u001b[0m\n\u001b[1;32m     15\u001b[0m \u001b[0;34m\u001b[0m\u001b[0m\n\u001b[1;32m     16\u001b[0m \u001b[0;32mimport\u001b[0m \u001b[0mcrypten\u001b[0m\u001b[0;34m.\u001b[0m\u001b[0mcommon\u001b[0m  \u001b[0;31m# noqa: F401\u001b[0m\u001b[0;34m\u001b[0m\u001b[0;34m\u001b[0m\u001b[0m\n\u001b[0;32m---> 17\u001b[0;31m \u001b[0;32mimport\u001b[0m \u001b[0mcrypten\u001b[0m\u001b[0;34m.\u001b[0m\u001b[0mcommunicator\u001b[0m \u001b[0;32mas\u001b[0m \u001b[0mcomm\u001b[0m\u001b[0;34m\u001b[0m\u001b[0;34m\u001b[0m\u001b[0m\n\u001b[0m\u001b[1;32m     18\u001b[0m \u001b[0;32mimport\u001b[0m \u001b[0mcrypten\u001b[0m\u001b[0;34m.\u001b[0m\u001b[0mconfig\u001b[0m  \u001b[0;31m# noqa: F401\u001b[0m\u001b[0;34m\u001b[0m\u001b[0;34m\u001b[0m\u001b[0m\n\u001b[1;32m     19\u001b[0m \u001b[0;32mimport\u001b[0m \u001b[0mcrypten\u001b[0m\u001b[0;34m.\u001b[0m\u001b[0mmpc\u001b[0m  \u001b[0;31m# noqa: F401\u001b[0m\u001b[0;34m\u001b[0m\u001b[0;34m\u001b[0m\u001b[0m\n",
      "\u001b[0;32m~/.local/lib/python3.8/site-packages/crypten/communicator/__init__.py\u001b[0m in \u001b[0;36m<module>\u001b[0;34m\u001b[0m\n\u001b[1;32m      7\u001b[0m \u001b[0;34m\u001b[0m\u001b[0m\n\u001b[1;32m      8\u001b[0m \u001b[0;32mfrom\u001b[0m \u001b[0;34m.\u001b[0m\u001b[0mcommunicator\u001b[0m \u001b[0;32mimport\u001b[0m \u001b[0mCommunicator\u001b[0m\u001b[0;34m\u001b[0m\u001b[0;34m\u001b[0m\u001b[0m\n\u001b[0;32m----> 9\u001b[0;31m \u001b[0;32mfrom\u001b[0m \u001b[0;34m.\u001b[0m\u001b[0mdistributed_communicator\u001b[0m \u001b[0;32mimport\u001b[0m \u001b[0mDistributedCommunicator\u001b[0m\u001b[0;34m\u001b[0m\u001b[0;34m\u001b[0m\u001b[0m\n\u001b[0m\u001b[1;32m     10\u001b[0m \u001b[0;32mfrom\u001b[0m \u001b[0;34m.\u001b[0m\u001b[0min_process_communicator\u001b[0m \u001b[0;32mimport\u001b[0m \u001b[0mInProcessCommunicator\u001b[0m\u001b[0;34m\u001b[0m\u001b[0;34m\u001b[0m\u001b[0m\n\u001b[1;32m     11\u001b[0m \u001b[0;34m\u001b[0m\u001b[0m\n",
      "\u001b[0;32m~/.local/lib/python3.8/site-packages/crypten/communicator/distributed_communicator.py\u001b[0m in \u001b[0;36m<module>\u001b[0;34m\u001b[0m\n\u001b[1;32m     15\u001b[0m \u001b[0;32mimport\u001b[0m \u001b[0mtorch\u001b[0m\u001b[0;34m\u001b[0m\u001b[0;34m\u001b[0m\u001b[0m\n\u001b[1;32m     16\u001b[0m \u001b[0;32mimport\u001b[0m \u001b[0mtorch\u001b[0m\u001b[0;34m.\u001b[0m\u001b[0mdistributed\u001b[0m \u001b[0;32mas\u001b[0m \u001b[0mdist\u001b[0m\u001b[0;34m\u001b[0m\u001b[0;34m\u001b[0m\u001b[0m\n\u001b[0;32m---> 17\u001b[0;31m \u001b[0;32mfrom\u001b[0m \u001b[0mcrypten\u001b[0m\u001b[0;34m.\u001b[0m\u001b[0mcommon\u001b[0m \u001b[0;32mimport\u001b[0m \u001b[0mserial\u001b[0m\u001b[0;34m\u001b[0m\u001b[0;34m\u001b[0m\u001b[0m\n\u001b[0m\u001b[1;32m     18\u001b[0m \u001b[0;32mfrom\u001b[0m \u001b[0mtorch\u001b[0m\u001b[0;34m.\u001b[0m\u001b[0mdistributed\u001b[0m \u001b[0;32mimport\u001b[0m \u001b[0mReduceOp\u001b[0m\u001b[0;34m\u001b[0m\u001b[0;34m\u001b[0m\u001b[0m\n\u001b[1;32m     19\u001b[0m \u001b[0;34m\u001b[0m\u001b[0m\n",
      "\u001b[0;32m~/.local/lib/python3.8/site-packages/crypten/common/serial.py\u001b[0m in \u001b[0;36m<module>\u001b[0;34m\u001b[0m\n\u001b[1;32m     57\u001b[0m \u001b[0;34m\u001b[0m\u001b[0m\n\u001b[1;32m     58\u001b[0m \u001b[0;34m\u001b[0m\u001b[0m\n\u001b[0;32m---> 59\u001b[0;31m \u001b[0;32mclass\u001b[0m \u001b[0mRestrictedUnpickler\u001b[0m\u001b[0;34m(\u001b[0m\u001b[0mpickle\u001b[0m\u001b[0;34m.\u001b[0m\u001b[0mUnpickler\u001b[0m\u001b[0;34m)\u001b[0m\u001b[0;34m:\u001b[0m\u001b[0;34m\u001b[0m\u001b[0;34m\u001b[0m\u001b[0m\n\u001b[0m\u001b[1;32m     60\u001b[0m     __SAFE_CLASSES = {\n\u001b[1;32m     61\u001b[0m         \u001b[0;34m\"builtins.set\"\u001b[0m\u001b[0;34m:\u001b[0m \u001b[0mbuiltins\u001b[0m\u001b[0;34m.\u001b[0m\u001b[0mset\u001b[0m\u001b[0;34m,\u001b[0m\u001b[0;34m\u001b[0m\u001b[0;34m\u001b[0m\u001b[0m\n",
      "\u001b[0;32m~/.local/lib/python3.8/site-packages/crypten/common/serial.py\u001b[0m in \u001b[0;36mRestrictedUnpickler\u001b[0;34m()\u001b[0m\n\u001b[1;32m     94\u001b[0m         \u001b[0;34m\"torch.ComplexFloatStorage\"\u001b[0m\u001b[0;34m:\u001b[0m \u001b[0mtorch\u001b[0m\u001b[0;34m.\u001b[0m\u001b[0mComplexFloatStorage\u001b[0m\u001b[0;34m,\u001b[0m\u001b[0;34m\u001b[0m\u001b[0;34m\u001b[0m\u001b[0m\n\u001b[1;32m     95\u001b[0m         \u001b[0;34m\"torch.HalfStorage\"\u001b[0m\u001b[0;34m:\u001b[0m \u001b[0mtorch\u001b[0m\u001b[0;34m.\u001b[0m\u001b[0mHalfStorage\u001b[0m\u001b[0;34m,\u001b[0m\u001b[0;34m\u001b[0m\u001b[0;34m\u001b[0m\u001b[0m\n\u001b[0;32m---> 96\u001b[0;31m         \u001b[0;34m\"torch._C.HalfStorageBase\"\u001b[0m\u001b[0;34m:\u001b[0m \u001b[0mtorch\u001b[0m\u001b[0;34m.\u001b[0m\u001b[0m_C\u001b[0m\u001b[0;34m.\u001b[0m\u001b[0mHalfStorageBase\u001b[0m\u001b[0;34m,\u001b[0m\u001b[0;34m\u001b[0m\u001b[0;34m\u001b[0m\u001b[0m\n\u001b[0m\u001b[1;32m     97\u001b[0m         \u001b[0;34m\"torch.IntStorage\"\u001b[0m\u001b[0;34m:\u001b[0m \u001b[0mtorch\u001b[0m\u001b[0;34m.\u001b[0m\u001b[0mHalfStorage\u001b[0m\u001b[0;34m,\u001b[0m\u001b[0;34m\u001b[0m\u001b[0;34m\u001b[0m\u001b[0m\n\u001b[1;32m     98\u001b[0m         \u001b[0;34m\"torch.LongStorage\"\u001b[0m\u001b[0;34m:\u001b[0m \u001b[0mtorch\u001b[0m\u001b[0;34m.\u001b[0m\u001b[0mLongStorage\u001b[0m\u001b[0;34m,\u001b[0m\u001b[0;34m\u001b[0m\u001b[0;34m\u001b[0m\u001b[0m\n",
      "\u001b[0;31mAttributeError\u001b[0m: module 'torch._C' has no attribute 'HalfStorageBase'"
     ]
    }
   ],
   "source": [
    "#pip install crypten --user\n",
    "import crypten\n",
    "\n",
    "import torch\n",
    "import torch.nn as nn"
   ]
  },
  {
   "cell_type": "code",
   "execution_count": null,
   "metadata": {},
   "outputs": [],
   "source": [
    "model = torch.load('vanilla_pytorch_mnist_model.pth')"
   ]
  },
  {
   "cell_type": "code",
   "execution_count": null,
   "metadata": {},
   "outputs": [],
   "source": []
  }
 ],
 "metadata": {
  "kernelspec": {
   "display_name": "PyTorch 1.10.0",
   "language": "python",
   "name": "pytorch-1.10.0"
  },
  "language_info": {
   "codemirror_mode": {
    "name": "ipython",
    "version": 3
   },
   "file_extension": ".py",
   "mimetype": "text/x-python",
   "name": "python",
   "nbconvert_exporter": "python",
   "pygments_lexer": "ipython3",
   "version": "3.8.12"
  }
 },
 "nbformat": 4,
 "nbformat_minor": 4
}
