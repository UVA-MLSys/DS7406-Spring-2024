{
 "cells": [
  {
   "cell_type": "code",
   "execution_count": 2,
   "metadata": {},
   "outputs": [
    {
     "name": "stdout",
     "output_type": "stream",
     "text": [
      "Collecting numexpr\n",
      "  Downloading numexpr-2.8.4-cp38-cp38-manylinux_2_17_x86_64.manylinux2014_x86_64.whl (381 kB)\n",
      "\u001b[K     |████████████████████████████████| 381 kB 17.0 MB/s eta 0:00:01\n",
      "\u001b[?25hRequirement already satisfied, skipping upgrade: numpy>=1.13.3 in /sfs/qumulo/qhome/zj6nw/.local/lib/python3.8/site-packages (from numexpr) (1.23.2)\n",
      "Installing collected packages: numexpr\n",
      "Successfully installed numexpr-2.8.4\n",
      "Note: you may need to restart the kernel to use updated packages.\n"
     ]
    }
   ],
   "source": [
    "# pip install -U --user numexpr"
   ]
  },
  {
   "cell_type": "code",
   "execution_count": 1,
   "metadata": {},
   "outputs": [],
   "source": [
    "import pandas as pd\n",
    "import seaborn as sns\n",
    "import numpy as np\n",
    "import matplotlib.pyplot as plt"
   ]
  },
  {
   "cell_type": "code",
   "execution_count": 2,
   "metadata": {},
   "outputs": [],
   "source": [
    "df1 = pd.read_csv(\"/gpfs/gpfs0/project/ds7003-fall22/team1/project/pytorch_time_elapsed_NVIDIA A100-SXM4-80GB.csv\")\n",
    "# df2 = pd.read_csv(\"/gpfs/gpfs0/project/ds7003-fall22/team1/project/pytorch_time_elapsed_Tesla K80.csv\")\n",
    "# df3 = pd.read_csv(\"/gpfs/gpfs0/project/ds7003-fall22/team1/project/pytorch_time_elapsed_Tesla P100-PCIE-12GB.csv\")\n",
    "df4 = pd.read_csv(\"/gpfs/gpfs0/project/ds7003-fall22/team1/project/pytorch_time_elapsed_Tesla V100-SXM2-32GB.csv\")\n",
    "df5 = pd.read_csv(\"/gpfs/gpfs0/project/ds7003-fall22/team1/project/crypten_time_elapsed_NVIDIA A100-SXM4-80GB.csv\")\n",
    "df6 = pd.read_csv(\"/gpfs/gpfs0/project/ds7003-fall22/team1/project/crypten_time_elapsed_Tesla V100-SXM2-32GB.csv\")"
   ]
  },
  {
   "cell_type": "code",
   "execution_count": 4,
   "metadata": {},
   "outputs": [],
   "source": [
    "s = pd.Series([1,2,3,4,5,6,7,8,9,10])\n",
    "df1['run_number'] = s\n",
    "# df2['run_number'] = s\n",
    "# df3['run_number'] = s\n",
    "df4['run_number'] = s"
   ]
  },
  {
   "cell_type": "code",
   "execution_count": 5,
   "metadata": {},
   "outputs": [],
   "source": [
    "df1.rename(columns={'time_elapsed': 'pytorch_A100'}, inplace=True)\n",
    "# df2.rename(columns={'time_elapsed': 'pytorch_K80'}, inplace=True)\n",
    "# df3.rename(columns={'time_elapsed': 'pytorch_P100'}, inplace=True)\n",
    "df4.rename(columns={'time_elapsed': 'pytorch_V100'}, inplace=True)\n",
    "df5.rename(columns={'time': 'crypten_A100'}, inplace=True)\n",
    "df6.rename(columns={'time': 'crypten_V100'}, inplace=True)"
   ]
  },
  {
   "cell_type": "code",
   "execution_count": 6,
   "metadata": {},
   "outputs": [
    {
     "data": {
      "text/html": [
       "<div>\n",
       "<style scoped>\n",
       "    .dataframe tbody tr th:only-of-type {\n",
       "        vertical-align: middle;\n",
       "    }\n",
       "\n",
       "    .dataframe tbody tr th {\n",
       "        vertical-align: top;\n",
       "    }\n",
       "\n",
       "    .dataframe thead th {\n",
       "        text-align: right;\n",
       "    }\n",
       "</style>\n",
       "<table border=\"1\" class=\"dataframe\">\n",
       "  <thead>\n",
       "    <tr style=\"text-align: right;\">\n",
       "      <th></th>\n",
       "      <th>pytorch_A100</th>\n",
       "      <th>pytorch_V100</th>\n",
       "    </tr>\n",
       "    <tr>\n",
       "      <th>run_number</th>\n",
       "      <th></th>\n",
       "      <th></th>\n",
       "    </tr>\n",
       "  </thead>\n",
       "  <tbody>\n",
       "    <tr>\n",
       "      <th>1</th>\n",
       "      <td>1.168484</td>\n",
       "      <td>1.013908</td>\n",
       "    </tr>\n",
       "    <tr>\n",
       "      <th>2</th>\n",
       "      <td>1.143213</td>\n",
       "      <td>1.024392</td>\n",
       "    </tr>\n",
       "    <tr>\n",
       "      <th>3</th>\n",
       "      <td>1.139673</td>\n",
       "      <td>0.987177</td>\n",
       "    </tr>\n",
       "    <tr>\n",
       "      <th>4</th>\n",
       "      <td>1.141427</td>\n",
       "      <td>1.006721</td>\n",
       "    </tr>\n",
       "    <tr>\n",
       "      <th>5</th>\n",
       "      <td>1.145075</td>\n",
       "      <td>0.994016</td>\n",
       "    </tr>\n",
       "  </tbody>\n",
       "</table>\n",
       "</div>"
      ],
      "text/plain": [
       "            pytorch_A100  pytorch_V100\n",
       "run_number                            \n",
       "1               1.168484      1.013908\n",
       "2               1.143213      1.024392\n",
       "3               1.139673      0.987177\n",
       "4               1.141427      1.006721\n",
       "5               1.145075      0.994016"
      ]
     },
     "execution_count": 6,
     "metadata": {},
     "output_type": "execute_result"
    }
   ],
   "source": [
    "# df_mid1 = pd.merge(df1, df2, on='run_number', how='left')\n",
    "# df_mid2 = pd.merge(df_mid1, df3, on='run_number', how='left')\n",
    "# df = pd.merge(df_mid2, df4, on='run_number', how='left')\n",
    "\n",
    "df = pd.merge(df1, df4, on='run_number', how='left')\n",
    "\n",
    "df = df.drop('device_x', axis=1)\n",
    "df = df.drop('device_y', axis=1)\n",
    "df = df.drop('run_x', axis=1)\n",
    "df = df.drop('run_y', axis=1)\n",
    "df = df.set_index('run_number')\n",
    "df.head()"
   ]
  },
  {
   "cell_type": "code",
   "execution_count": null,
   "metadata": {},
   "outputs": [],
   "source": [
    "# df_test = df.copy()\n",
    "# df_test.head()"
   ]
  },
  {
   "cell_type": "code",
   "execution_count": 9,
   "metadata": {},
   "outputs": [],
   "source": [
    "# for column in df_test:\n",
    "#     df_test[column] = df_test[column].cumsum()\n",
    "\n",
    "# df_test.head()"
   ]
  },
  {
   "cell_type": "code",
   "execution_count": 10,
   "metadata": {},
   "outputs": [],
   "source": [
    "# plt.plot(df_test)\n",
    "# plt.legend((\"A100\", \"K80\", \"P100\", \"V100\"))\n",
    "# plt.title(\"Vanilla PyTorch Benchmarks by GPU\")\n",
    "# plt.xlabel(\"Run Number\")\n",
    "# plt.ylabel(\"Inference Time (s)\")\n",
    "# plt.xticks([1,2,3,4,5,6,7,8,9,10])\n",
    "# plt.show()"
   ]
  },
  {
   "cell_type": "code",
   "execution_count": 11,
   "metadata": {},
   "outputs": [],
   "source": [
    "df.loc['mean'] = df.mean()"
   ]
  },
  {
   "cell_type": "code",
   "execution_count": 12,
   "metadata": {},
   "outputs": [
    {
     "data": {
      "text/html": [
       "<div>\n",
       "<style scoped>\n",
       "    .dataframe tbody tr th:only-of-type {\n",
       "        vertical-align: middle;\n",
       "    }\n",
       "\n",
       "    .dataframe tbody tr th {\n",
       "        vertical-align: top;\n",
       "    }\n",
       "\n",
       "    .dataframe thead th {\n",
       "        text-align: right;\n",
       "    }\n",
       "</style>\n",
       "<table border=\"1\" class=\"dataframe\">\n",
       "  <thead>\n",
       "    <tr style=\"text-align: right;\">\n",
       "      <th></th>\n",
       "      <th>pytorch_A100</th>\n",
       "      <th>pytorch_V100</th>\n",
       "    </tr>\n",
       "    <tr>\n",
       "      <th>run_number</th>\n",
       "      <th></th>\n",
       "      <th></th>\n",
       "    </tr>\n",
       "  </thead>\n",
       "  <tbody>\n",
       "    <tr>\n",
       "      <th>1</th>\n",
       "      <td>1.168484</td>\n",
       "      <td>1.013908</td>\n",
       "    </tr>\n",
       "    <tr>\n",
       "      <th>2</th>\n",
       "      <td>1.143213</td>\n",
       "      <td>1.024392</td>\n",
       "    </tr>\n",
       "    <tr>\n",
       "      <th>3</th>\n",
       "      <td>1.139673</td>\n",
       "      <td>0.987177</td>\n",
       "    </tr>\n",
       "    <tr>\n",
       "      <th>4</th>\n",
       "      <td>1.141427</td>\n",
       "      <td>1.006721</td>\n",
       "    </tr>\n",
       "    <tr>\n",
       "      <th>5</th>\n",
       "      <td>1.145075</td>\n",
       "      <td>0.994016</td>\n",
       "    </tr>\n",
       "    <tr>\n",
       "      <th>6</th>\n",
       "      <td>1.148993</td>\n",
       "      <td>0.987917</td>\n",
       "    </tr>\n",
       "    <tr>\n",
       "      <th>7</th>\n",
       "      <td>1.147879</td>\n",
       "      <td>0.995026</td>\n",
       "    </tr>\n",
       "    <tr>\n",
       "      <th>8</th>\n",
       "      <td>1.140018</td>\n",
       "      <td>0.997701</td>\n",
       "    </tr>\n",
       "    <tr>\n",
       "      <th>9</th>\n",
       "      <td>1.142283</td>\n",
       "      <td>0.993648</td>\n",
       "    </tr>\n",
       "    <tr>\n",
       "      <th>10</th>\n",
       "      <td>1.144584</td>\n",
       "      <td>0.995104</td>\n",
       "    </tr>\n",
       "    <tr>\n",
       "      <th>mean</th>\n",
       "      <td>1.146163</td>\n",
       "      <td>0.999561</td>\n",
       "    </tr>\n",
       "  </tbody>\n",
       "</table>\n",
       "</div>"
      ],
      "text/plain": [
       "            pytorch_A100  pytorch_V100\n",
       "run_number                            \n",
       "1               1.168484      1.013908\n",
       "2               1.143213      1.024392\n",
       "3               1.139673      0.987177\n",
       "4               1.141427      1.006721\n",
       "5               1.145075      0.994016\n",
       "6               1.148993      0.987917\n",
       "7               1.147879      0.995026\n",
       "8               1.140018      0.997701\n",
       "9               1.142283      0.993648\n",
       "10              1.144584      0.995104\n",
       "mean            1.146163      0.999561"
      ]
     },
     "execution_count": 12,
     "metadata": {},
     "output_type": "execute_result"
    }
   ],
   "source": [
    "df"
   ]
  },
  {
   "cell_type": "code",
   "execution_count": 13,
   "metadata": {},
   "outputs": [
    {
     "data": {
      "text/html": [
       "<div>\n",
       "<style scoped>\n",
       "    .dataframe tbody tr th:only-of-type {\n",
       "        vertical-align: middle;\n",
       "    }\n",
       "\n",
       "    .dataframe tbody tr th {\n",
       "        vertical-align: top;\n",
       "    }\n",
       "\n",
       "    .dataframe thead th {\n",
       "        text-align: right;\n",
       "    }\n",
       "</style>\n",
       "<table border=\"1\" class=\"dataframe\">\n",
       "  <thead>\n",
       "    <tr style=\"text-align: right;\">\n",
       "      <th></th>\n",
       "      <th>pytorch_A100</th>\n",
       "      <th>pytorch_V100</th>\n",
       "    </tr>\n",
       "    <tr>\n",
       "      <th>run_number</th>\n",
       "      <th></th>\n",
       "      <th></th>\n",
       "    </tr>\n",
       "  </thead>\n",
       "  <tbody>\n",
       "    <tr>\n",
       "      <th>mean</th>\n",
       "      <td>1.146163</td>\n",
       "      <td>0.999561</td>\n",
       "    </tr>\n",
       "  </tbody>\n",
       "</table>\n",
       "</div>"
      ],
      "text/plain": [
       "            pytorch_A100  pytorch_V100\n",
       "run_number                            \n",
       "mean            1.146163      0.999561"
      ]
     },
     "execution_count": 13,
     "metadata": {},
     "output_type": "execute_result"
    }
   ],
   "source": [
    "df_means = df.loc[['mean'],:]\n",
    "df_means"
   ]
  },
  {
   "cell_type": "code",
   "execution_count": 15,
   "metadata": {},
   "outputs": [
    {
     "data": {
      "text/html": [
       "<div>\n",
       "<style scoped>\n",
       "    .dataframe tbody tr th:only-of-type {\n",
       "        vertical-align: middle;\n",
       "    }\n",
       "\n",
       "    .dataframe tbody tr th {\n",
       "        vertical-align: top;\n",
       "    }\n",
       "\n",
       "    .dataframe thead th {\n",
       "        text-align: right;\n",
       "    }\n",
       "</style>\n",
       "<table border=\"1\" class=\"dataframe\">\n",
       "  <thead>\n",
       "    <tr style=\"text-align: right;\">\n",
       "      <th></th>\n",
       "      <th>device</th>\n",
       "      <th>crypten_A100</th>\n",
       "    </tr>\n",
       "  </thead>\n",
       "  <tbody>\n",
       "    <tr>\n",
       "      <th>0</th>\n",
       "      <td>NVIDIA A100-SXM4-80GB</td>\n",
       "      <td>1426.016529</td>\n",
       "    </tr>\n",
       "  </tbody>\n",
       "</table>\n",
       "</div>"
      ],
      "text/plain": [
       "                  device  crypten_A100\n",
       "0  NVIDIA A100-SXM4-80GB   1426.016529"
      ]
     },
     "execution_count": 15,
     "metadata": {},
     "output_type": "execute_result"
    }
   ],
   "source": [
    "df5.head()"
   ]
  },
  {
   "cell_type": "code",
   "execution_count": 16,
   "metadata": {},
   "outputs": [
    {
     "data": {
      "text/html": [
       "<div>\n",
       "<style scoped>\n",
       "    .dataframe tbody tr th:only-of-type {\n",
       "        vertical-align: middle;\n",
       "    }\n",
       "\n",
       "    .dataframe tbody tr th {\n",
       "        vertical-align: top;\n",
       "    }\n",
       "\n",
       "    .dataframe thead th {\n",
       "        text-align: right;\n",
       "    }\n",
       "</style>\n",
       "<table border=\"1\" class=\"dataframe\">\n",
       "  <thead>\n",
       "    <tr style=\"text-align: right;\">\n",
       "      <th></th>\n",
       "      <th>device</th>\n",
       "      <th>crypten_V100</th>\n",
       "    </tr>\n",
       "  </thead>\n",
       "  <tbody>\n",
       "    <tr>\n",
       "      <th>0</th>\n",
       "      <td>Tesla V100-SXM2-32GB</td>\n",
       "      <td>770.035461</td>\n",
       "    </tr>\n",
       "  </tbody>\n",
       "</table>\n",
       "</div>"
      ],
      "text/plain": [
       "                 device  crypten_V100\n",
       "0  Tesla V100-SXM2-32GB    770.035461"
      ]
     },
     "execution_count": 16,
     "metadata": {},
     "output_type": "execute_result"
    }
   ],
   "source": [
    "df6.head()"
   ]
  },
  {
   "cell_type": "code",
   "execution_count": 43,
   "metadata": {},
   "outputs": [],
   "source": [
    "pytorch_a100 = df_means.loc[df_means[\"pytorch_A100\"] > 1][\"pytorch_A100\"].values\n",
    "pytorch_v100 = df_means.loc[df_means[\"pytorch_V100\"] < 1][\"pytorch_V100\"].values\n",
    "crypten_a100 = df5.loc[df5[\"crypten_A100\"] > 0][\"crypten_A100\"].values\n",
    "crypten_v100 = df6.loc[df6[\"crypten_V100\"] > 0][\"crypten_V100\"].values"
   ]
  },
  {
   "cell_type": "code",
   "execution_count": 44,
   "metadata": {},
   "outputs": [],
   "source": [
    "df_means['crypten_A100'] = crypten_a100"
   ]
  },
  {
   "cell_type": "code",
   "execution_count": 45,
   "metadata": {},
   "outputs": [],
   "source": [
    "df_means['crypten_V100'] = crypten_v100"
   ]
  },
  {
   "cell_type": "code",
   "execution_count": 46,
   "metadata": {},
   "outputs": [
    {
     "data": {
      "text/html": [
       "<div>\n",
       "<style scoped>\n",
       "    .dataframe tbody tr th:only-of-type {\n",
       "        vertical-align: middle;\n",
       "    }\n",
       "\n",
       "    .dataframe tbody tr th {\n",
       "        vertical-align: top;\n",
       "    }\n",
       "\n",
       "    .dataframe thead th {\n",
       "        text-align: right;\n",
       "    }\n",
       "</style>\n",
       "<table border=\"1\" class=\"dataframe\">\n",
       "  <thead>\n",
       "    <tr style=\"text-align: right;\">\n",
       "      <th></th>\n",
       "      <th>pytorch_A100</th>\n",
       "      <th>pytorch_V100</th>\n",
       "      <th>crypten_A100</th>\n",
       "      <th>crypten_V100</th>\n",
       "    </tr>\n",
       "    <tr>\n",
       "      <th>run_number</th>\n",
       "      <th></th>\n",
       "      <th></th>\n",
       "      <th></th>\n",
       "      <th></th>\n",
       "    </tr>\n",
       "  </thead>\n",
       "  <tbody>\n",
       "    <tr>\n",
       "      <th>mean</th>\n",
       "      <td>1.146163</td>\n",
       "      <td>0.999561</td>\n",
       "      <td>1426.016529</td>\n",
       "      <td>770.035461</td>\n",
       "    </tr>\n",
       "  </tbody>\n",
       "</table>\n",
       "</div>"
      ],
      "text/plain": [
       "            pytorch_A100  pytorch_V100  crypten_A100  crypten_V100\n",
       "run_number                                                        \n",
       "mean            1.146163      0.999561   1426.016529    770.035461"
      ]
     },
     "execution_count": 46,
     "metadata": {},
     "output_type": "execute_result"
    }
   ],
   "source": [
    "df_means"
   ]
  },
  {
   "cell_type": "code",
   "execution_count": 47,
   "metadata": {},
   "outputs": [
    {
     "data": {
      "text/html": [
       "<div>\n",
       "<style scoped>\n",
       "    .dataframe tbody tr th:only-of-type {\n",
       "        vertical-align: middle;\n",
       "    }\n",
       "\n",
       "    .dataframe tbody tr th {\n",
       "        vertical-align: top;\n",
       "    }\n",
       "\n",
       "    .dataframe thead th {\n",
       "        text-align: right;\n",
       "    }\n",
       "</style>\n",
       "<table border=\"1\" class=\"dataframe\">\n",
       "  <thead>\n",
       "    <tr style=\"text-align: right;\">\n",
       "      <th>run_number</th>\n",
       "      <th>mean</th>\n",
       "    </tr>\n",
       "  </thead>\n",
       "  <tbody>\n",
       "    <tr>\n",
       "      <th>pytorch_A100</th>\n",
       "      <td>1.146163</td>\n",
       "    </tr>\n",
       "    <tr>\n",
       "      <th>pytorch_V100</th>\n",
       "      <td>0.999561</td>\n",
       "    </tr>\n",
       "    <tr>\n",
       "      <th>crypten_A100</th>\n",
       "      <td>1426.016529</td>\n",
       "    </tr>\n",
       "    <tr>\n",
       "      <th>crypten_V100</th>\n",
       "      <td>770.035461</td>\n",
       "    </tr>\n",
       "  </tbody>\n",
       "</table>\n",
       "</div>"
      ],
      "text/plain": [
       "run_number           mean\n",
       "pytorch_A100     1.146163\n",
       "pytorch_V100     0.999561\n",
       "crypten_A100  1426.016529\n",
       "crypten_V100   770.035461"
      ]
     },
     "execution_count": 47,
     "metadata": {},
     "output_type": "execute_result"
    }
   ],
   "source": [
    "df_transpose = df_means.transpose()\n",
    "df_transpose"
   ]
  },
  {
   "cell_type": "code",
   "execution_count": 48,
   "metadata": {},
   "outputs": [
    {
     "data": {
      "image/png": "[encoded data removed]",
      "text/plain": [
       "<Figure size 432x288 with 1 Axes>"
      ]
     },
     "metadata": {
      "needs_background": "light"
     },
     "output_type": "display_data"
    }
   ],
   "source": [
    "df_transpose.plot(kind=\"bar\", title=\"test\")\n",
    "plt.title(\"Vanilla PyTorch vs. Crypten Comparison by GPU\")\n",
    "plt.xlabel(\"GPU\")\n",
    "_ = plt.ylabel(\"Inference Time (s)\")\n",
    "plt.yscale(\"log\")\n",
    "_ = plt.legend('',frameon=False)"
   ]
  },
  {
   "cell_type": "code",
   "execution_count": 59,
   "metadata": {},
   "outputs": [],
   "source": [
    "data = [[pytorch_a100,crypten_a100],[pytorch_v100,crypten_v100]]\n",
    "df_final = pd.DataFrame(data, columns=['PyTorch', 'Crypten'])"
   ]
  },
  {
   "cell_type": "code",
   "execution_count": 60,
   "metadata": {},
   "outputs": [
    {
     "data": {
      "text/html": [
       "<div>\n",
       "<style scoped>\n",
       "    .dataframe tbody tr th:only-of-type {\n",
       "        vertical-align: middle;\n",
       "    }\n",
       "\n",
       "    .dataframe tbody tr th {\n",
       "        vertical-align: top;\n",
       "    }\n",
       "\n",
       "    .dataframe thead th {\n",
       "        text-align: right;\n",
       "    }\n",
       "</style>\n",
       "<table border=\"1\" class=\"dataframe\">\n",
       "  <thead>\n",
       "    <tr style=\"text-align: right;\">\n",
       "      <th></th>\n",
       "      <th>PyTorch</th>\n",
       "      <th>Crypten</th>\n",
       "    </tr>\n",
       "    <tr>\n",
       "      <th>GPU</th>\n",
       "      <th></th>\n",
       "      <th></th>\n",
       "    </tr>\n",
       "  </thead>\n",
       "  <tbody>\n",
       "    <tr>\n",
       "      <th>A100</th>\n",
       "      <td>[1.1461627005995978]</td>\n",
       "      <td>[1426.016528827]</td>\n",
       "    </tr>\n",
       "    <tr>\n",
       "      <th>V100</th>\n",
       "      <td>[0.9995608741417528]</td>\n",
       "      <td>[770.0354613121599]</td>\n",
       "    </tr>\n",
       "  </tbody>\n",
       "</table>\n",
       "</div>"
      ],
      "text/plain": [
       "                   PyTorch              Crypten\n",
       "GPU                                            \n",
       "A100  [1.1461627005995978]     [1426.016528827]\n",
       "V100  [0.9995608741417528]  [770.0354613121599]"
      ]
     },
     "execution_count": 60,
     "metadata": {},
     "output_type": "execute_result"
    }
   ],
   "source": [
    "s = [\"A100\", \"V100\"]\n",
    "df_final['GPU'] = s\n",
    "df_final = df_final.set_index('GPU')\n",
    "df_final"
   ]
  },
  {
   "cell_type": "code",
   "execution_count": 63,
   "metadata": {},
   "outputs": [],
   "source": [
    "df_final['PyTorch']=df_final['PyTorch'].astype(float)\n",
    "df_final['Crypten']=df_final['Crypten'].astype(float)"
   ]
  },
  {
   "cell_type": "code",
   "execution_count": 64,
   "metadata": {},
   "outputs": [
    {
     "data": {
      "image/png": "[encoded data removed]",
      "text/plain": [
       "<Figure size 432x288 with 1 Axes>"
      ]
     },
     "metadata": {
      "needs_background": "light"
     },
     "output_type": "display_data"
    }
   ],
   "source": [
    "df_final.plot(kind=\"bar\", title=\"test\")\n",
    "plt.title(\"Vanilla PyTorch vs. Crypten Comparison by GPU - MNIST\")\n",
    "plt.xlabel(\"GPU\")\n",
    "_ = plt.ylabel(\"Inference Time (s)\")\n",
    "plt.yscale(\"log\")"
   ]
  },
  {
   "cell_type": "code",
   "execution_count": 65,
   "metadata": {},
   "outputs": [],
   "source": [
    "df7 = pd.read_csv(\"/gpfs/gpfs0/project/ds7003-fall22/team1/project/pt_text_classification_time_elapsed_Tesla V100-SXM2-32GB.csv\")\n",
    "\n"
   ]
  },
  {
   "cell_type": "code",
   "execution_count": null,
   "metadata": {},
   "outputs": [],
   "source": []
  }
 ],
 "metadata": {
  "kernelspec": {
   "display_name": "Python 3",
   "language": "python",
   "name": "python3"
  },
  "language_info": {
   "codemirror_mode": {
    "name": "ipython",
    "version": 3
   },
   "file_extension": ".py",
   "mimetype": "text/x-python",
   "name": "python",
   "nbconvert_exporter": "python",
   "pygments_lexer": "ipython3",
   "version": "3.8.8"
  }
 },
 "nbformat": 4,
 "nbformat_minor": 4
}
