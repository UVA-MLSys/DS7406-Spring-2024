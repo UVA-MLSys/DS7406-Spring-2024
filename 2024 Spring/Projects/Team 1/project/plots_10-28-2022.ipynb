{
 "cells": [
  {
   "cell_type": "code",
   "execution_count": 1,
   "metadata": {},
   "outputs": [
    {
     "name": "stderr",
     "output_type": "stream",
     "text": [
      "/home/zj6nw/.local/lib/python3.8/site-packages/pandas/core/computation/expressions.py:20: UserWarning: Pandas requires version '2.7.3' or newer of 'numexpr' (version '2.7.1' currently installed).\n",
      "  from pandas.core.computation.check import NUMEXPR_INSTALLED\n"
     ]
    }
   ],
   "source": [
    "import pandas as pd\n",
    "import seaborn as sns\n",
    "import numpy as np\n",
    "import matplotlib.pyplot as plt"
   ]
  },
  {
   "cell_type": "code",
   "execution_count": 2,
   "metadata": {},
   "outputs": [],
   "source": [
    "df1 = pd.read_csv(\"/gpfs/gpfs0/project/ds7003-fall22/team1/project/pytorch_time_elapsed_NVIDIA A100-SXM4-80GB.csv\")\n",
    "df2 = pd.read_csv(\"/gpfs/gpfs0/project/ds7003-fall22/team1/project/pytorch_time_elapsed_Tesla K80.csv\")\n",
    "df3 = pd.read_csv(\"/gpfs/gpfs0/project/ds7003-fall22/team1/project/pytorch_time_elapsed_Tesla P100-PCIE-12GB.csv\")\n",
    "df4 = pd.read_csv(\"/gpfs/gpfs0/project/ds7003-fall22/team1/project/pytorch_time_elapsed_Tesla V100-SXM2-32GB.csv\")\n",
    "df5 = pd.read_csv(\"/gpfs/gpfs0/project/ds7003-fall22/team1/project/crypten_time_elapsed_NVIDIA A100-SXM4-80GB.csv\")\n",
    "df6 = pd.read_csv(\"/gpfs/gpfs0/project/ds7003-fall22/team1/project/crypten_time_elapsed_Tesla V100-SXM2-32GB.csv\")"
   ]
  },
  {
   "cell_type": "code",
   "execution_count": 3,
   "metadata": {},
   "outputs": [],
   "source": [
    "s = pd.Series([1,2,3,4,5,6,7,8,9,10])\n",
    "df1['run_number'] = s\n",
    "df2['run_number'] = s\n",
    "df3['run_number'] = s\n",
    "df4['run_number'] = s"
   ]
  },
  {
   "cell_type": "code",
   "execution_count": 4,
   "metadata": {},
   "outputs": [],
   "source": [
    "df1.rename(columns={'time_elapsed': 'pytorch_A100'}, inplace=True)\n",
    "df2.rename(columns={'time_elapsed': 'pytorch_K80'}, inplace=True)\n",
    "df3.rename(columns={'time_elapsed': 'pytorch_P100'}, inplace=True)\n",
    "df4.rename(columns={'time_elapsed': 'pytorch_V100'}, inplace=True)\n",
    "df5.rename(columns={'time': 'crypten_A100'}, inplace=True)\n",
    "df6.rename(columns={'time': 'crypten_V100'}, inplace=True)"
   ]
  },
  {
   "cell_type": "code",
   "execution_count": 5,
   "metadata": {},
   "outputs": [
    {
     "name": "stderr",
     "output_type": "stream",
     "text": [
      "<ipython-input-5-572fbac4371c>:3: FutureWarning: Passing 'suffixes' which cause duplicate columns {'run_x', 'device_x'} in the result is deprecated and will raise a MergeError in a future version.\n",
      "  df = pd.merge(df_mid2, df4, on='run_number', how='left')\n"
     ]
    },
    {
     "data": {
      "text/html": [
       "<div>\n",
       "<style scoped>\n",
       "    .dataframe tbody tr th:only-of-type {\n",
       "        vertical-align: middle;\n",
       "    }\n",
       "\n",
       "    .dataframe tbody tr th {\n",
       "        vertical-align: top;\n",
       "    }\n",
       "\n",
       "    .dataframe thead th {\n",
       "        text-align: right;\n",
       "    }\n",
       "</style>\n",
       "<table border=\"1\" class=\"dataframe\">\n",
       "  <thead>\n",
       "    <tr style=\"text-align: right;\">\n",
       "      <th></th>\n",
       "      <th>pytorch_A100</th>\n",
       "      <th>pytorch_K80</th>\n",
       "      <th>pytorch_P100</th>\n",
       "      <th>pytorch_V100</th>\n",
       "    </tr>\n",
       "    <tr>\n",
       "      <th>run_number</th>\n",
       "      <th></th>\n",
       "      <th></th>\n",
       "      <th></th>\n",
       "      <th></th>\n",
       "    </tr>\n",
       "  </thead>\n",
       "  <tbody>\n",
       "    <tr>\n",
       "      <th>1</th>\n",
       "      <td>1.168484</td>\n",
       "      <td>2.114963</td>\n",
       "      <td>2.123889</td>\n",
       "      <td>1.013908</td>\n",
       "    </tr>\n",
       "    <tr>\n",
       "      <th>2</th>\n",
       "      <td>1.143213</td>\n",
       "      <td>2.132219</td>\n",
       "      <td>2.033871</td>\n",
       "      <td>1.024392</td>\n",
       "    </tr>\n",
       "    <tr>\n",
       "      <th>3</th>\n",
       "      <td>1.139673</td>\n",
       "      <td>2.111966</td>\n",
       "      <td>2.008372</td>\n",
       "      <td>0.987177</td>\n",
       "    </tr>\n",
       "    <tr>\n",
       "      <th>4</th>\n",
       "      <td>1.141427</td>\n",
       "      <td>2.116346</td>\n",
       "      <td>2.009405</td>\n",
       "      <td>1.006721</td>\n",
       "    </tr>\n",
       "    <tr>\n",
       "      <th>5</th>\n",
       "      <td>1.145075</td>\n",
       "      <td>2.122350</td>\n",
       "      <td>2.024469</td>\n",
       "      <td>0.994016</td>\n",
       "    </tr>\n",
       "  </tbody>\n",
       "</table>\n",
       "</div>"
      ],
      "text/plain": [
       "            pytorch_A100  pytorch_K80  pytorch_P100  pytorch_V100\n",
       "run_number                                                       \n",
       "1               1.168484     2.114963      2.123889      1.013908\n",
       "2               1.143213     2.132219      2.033871      1.024392\n",
       "3               1.139673     2.111966      2.008372      0.987177\n",
       "4               1.141427     2.116346      2.009405      1.006721\n",
       "5               1.145075     2.122350      2.024469      0.994016"
      ]
     },
     "execution_count": 5,
     "metadata": {},
     "output_type": "execute_result"
    }
   ],
   "source": [
    "df_mid1 = pd.merge(df1, df2, on='run_number', how='left')\n",
    "df_mid2 = pd.merge(df_mid1, df3, on='run_number', how='left')\n",
    "df = pd.merge(df_mid2, df4, on='run_number', how='left')\n",
    "df = df.drop('device_x', axis=1)\n",
    "df = df.drop('device_y', axis=1)\n",
    "df = df.drop('run_x', axis=1)\n",
    "df = df.drop('run_y', axis=1)\n",
    "df = df.set_index('run_number')\n",
    "df.head()"
   ]
  },
  {
   "cell_type": "code",
   "execution_count": 6,
   "metadata": {},
   "outputs": [
    {
     "data": {
      "text/html": [
       "<div>\n",
       "<style scoped>\n",
       "    .dataframe tbody tr th:only-of-type {\n",
       "        vertical-align: middle;\n",
       "    }\n",
       "\n",
       "    .dataframe tbody tr th {\n",
       "        vertical-align: top;\n",
       "    }\n",
       "\n",
       "    .dataframe thead th {\n",
       "        text-align: right;\n",
       "    }\n",
       "</style>\n",
       "<table border=\"1\" class=\"dataframe\">\n",
       "  <thead>\n",
       "    <tr style=\"text-align: right;\">\n",
       "      <th></th>\n",
       "      <th>pytorch_A100</th>\n",
       "      <th>pytorch_K80</th>\n",
       "      <th>pytorch_P100</th>\n",
       "      <th>pytorch_V100</th>\n",
       "    </tr>\n",
       "    <tr>\n",
       "      <th>run_number</th>\n",
       "      <th></th>\n",
       "      <th></th>\n",
       "      <th></th>\n",
       "      <th></th>\n",
       "    </tr>\n",
       "  </thead>\n",
       "  <tbody>\n",
       "    <tr>\n",
       "      <th>1</th>\n",
       "      <td>1.168484</td>\n",
       "      <td>2.114963</td>\n",
       "      <td>2.123889</td>\n",
       "      <td>1.013908</td>\n",
       "    </tr>\n",
       "    <tr>\n",
       "      <th>2</th>\n",
       "      <td>1.143213</td>\n",
       "      <td>2.132219</td>\n",
       "      <td>2.033871</td>\n",
       "      <td>1.024392</td>\n",
       "    </tr>\n",
       "    <tr>\n",
       "      <th>3</th>\n",
       "      <td>1.139673</td>\n",
       "      <td>2.111966</td>\n",
       "      <td>2.008372</td>\n",
       "      <td>0.987177</td>\n",
       "    </tr>\n",
       "    <tr>\n",
       "      <th>4</th>\n",
       "      <td>1.141427</td>\n",
       "      <td>2.116346</td>\n",
       "      <td>2.009405</td>\n",
       "      <td>1.006721</td>\n",
       "    </tr>\n",
       "    <tr>\n",
       "      <th>5</th>\n",
       "      <td>1.145075</td>\n",
       "      <td>2.122350</td>\n",
       "      <td>2.024469</td>\n",
       "      <td>0.994016</td>\n",
       "    </tr>\n",
       "  </tbody>\n",
       "</table>\n",
       "</div>"
      ],
      "text/plain": [
       "            pytorch_A100  pytorch_K80  pytorch_P100  pytorch_V100\n",
       "run_number                                                       \n",
       "1               1.168484     2.114963      2.123889      1.013908\n",
       "2               1.143213     2.132219      2.033871      1.024392\n",
       "3               1.139673     2.111966      2.008372      0.987177\n",
       "4               1.141427     2.116346      2.009405      1.006721\n",
       "5               1.145075     2.122350      2.024469      0.994016"
      ]
     },
     "execution_count": 6,
     "metadata": {},
     "output_type": "execute_result"
    }
   ],
   "source": [
    "df_test = df.copy()\n",
    "df_test.head()"
   ]
  },
  {
   "cell_type": "code",
   "execution_count": 7,
   "metadata": {},
   "outputs": [
    {
     "data": {
      "text/html": [
       "<div>\n",
       "<style scoped>\n",
       "    .dataframe tbody tr th:only-of-type {\n",
       "        vertical-align: middle;\n",
       "    }\n",
       "\n",
       "    .dataframe tbody tr th {\n",
       "        vertical-align: top;\n",
       "    }\n",
       "\n",
       "    .dataframe thead th {\n",
       "        text-align: right;\n",
       "    }\n",
       "</style>\n",
       "<table border=\"1\" class=\"dataframe\">\n",
       "  <thead>\n",
       "    <tr style=\"text-align: right;\">\n",
       "      <th></th>\n",
       "      <th>pytorch_A100</th>\n",
       "      <th>pytorch_K80</th>\n",
       "      <th>pytorch_P100</th>\n",
       "      <th>pytorch_V100</th>\n",
       "    </tr>\n",
       "    <tr>\n",
       "      <th>run_number</th>\n",
       "      <th></th>\n",
       "      <th></th>\n",
       "      <th></th>\n",
       "      <th></th>\n",
       "    </tr>\n",
       "  </thead>\n",
       "  <tbody>\n",
       "    <tr>\n",
       "      <th>1</th>\n",
       "      <td>1.168484</td>\n",
       "      <td>2.114963</td>\n",
       "      <td>2.123889</td>\n",
       "      <td>1.013908</td>\n",
       "    </tr>\n",
       "    <tr>\n",
       "      <th>2</th>\n",
       "      <td>1.143213</td>\n",
       "      <td>2.132219</td>\n",
       "      <td>2.033871</td>\n",
       "      <td>1.024392</td>\n",
       "    </tr>\n",
       "    <tr>\n",
       "      <th>3</th>\n",
       "      <td>1.139673</td>\n",
       "      <td>2.111966</td>\n",
       "      <td>2.008372</td>\n",
       "      <td>0.987177</td>\n",
       "    </tr>\n",
       "    <tr>\n",
       "      <th>4</th>\n",
       "      <td>1.141427</td>\n",
       "      <td>2.116346</td>\n",
       "      <td>2.009405</td>\n",
       "      <td>1.006721</td>\n",
       "    </tr>\n",
       "    <tr>\n",
       "      <th>5</th>\n",
       "      <td>1.145075</td>\n",
       "      <td>2.122350</td>\n",
       "      <td>2.024469</td>\n",
       "      <td>0.994016</td>\n",
       "    </tr>\n",
       "  </tbody>\n",
       "</table>\n",
       "</div>"
      ],
      "text/plain": [
       "            pytorch_A100  pytorch_K80  pytorch_P100  pytorch_V100\n",
       "run_number                                                       \n",
       "1               1.168484     2.114963      2.123889      1.013908\n",
       "2               1.143213     2.132219      2.033871      1.024392\n",
       "3               1.139673     2.111966      2.008372      0.987177\n",
       "4               1.141427     2.116346      2.009405      1.006721\n",
       "5               1.145075     2.122350      2.024469      0.994016"
      ]
     },
     "execution_count": 7,
     "metadata": {},
     "output_type": "execute_result"
    }
   ],
   "source": [
    "df.head()"
   ]
  },
  {
   "cell_type": "code",
   "execution_count": 8,
   "metadata": {},
   "outputs": [
    {
     "data": {
      "text/html": [
       "<div>\n",
       "<style scoped>\n",
       "    .dataframe tbody tr th:only-of-type {\n",
       "        vertical-align: middle;\n",
       "    }\n",
       "\n",
       "    .dataframe tbody tr th {\n",
       "        vertical-align: top;\n",
       "    }\n",
       "\n",
       "    .dataframe thead th {\n",
       "        text-align: right;\n",
       "    }\n",
       "</style>\n",
       "<table border=\"1\" class=\"dataframe\">\n",
       "  <thead>\n",
       "    <tr style=\"text-align: right;\">\n",
       "      <th></th>\n",
       "      <th>pytorch_A100</th>\n",
       "      <th>pytorch_K80</th>\n",
       "      <th>pytorch_P100</th>\n",
       "      <th>pytorch_V100</th>\n",
       "    </tr>\n",
       "    <tr>\n",
       "      <th>run_number</th>\n",
       "      <th></th>\n",
       "      <th></th>\n",
       "      <th></th>\n",
       "      <th></th>\n",
       "    </tr>\n",
       "  </thead>\n",
       "  <tbody>\n",
       "    <tr>\n",
       "      <th>1</th>\n",
       "      <td>1.168484</td>\n",
       "      <td>2.114963</td>\n",
       "      <td>2.123889</td>\n",
       "      <td>1.013908</td>\n",
       "    </tr>\n",
       "    <tr>\n",
       "      <th>2</th>\n",
       "      <td>2.311696</td>\n",
       "      <td>4.247182</td>\n",
       "      <td>4.157760</td>\n",
       "      <td>2.038299</td>\n",
       "    </tr>\n",
       "    <tr>\n",
       "      <th>3</th>\n",
       "      <td>3.451369</td>\n",
       "      <td>6.359148</td>\n",
       "      <td>6.166132</td>\n",
       "      <td>3.025477</td>\n",
       "    </tr>\n",
       "    <tr>\n",
       "      <th>4</th>\n",
       "      <td>4.592796</td>\n",
       "      <td>8.475494</td>\n",
       "      <td>8.175537</td>\n",
       "      <td>4.032197</td>\n",
       "    </tr>\n",
       "    <tr>\n",
       "      <th>5</th>\n",
       "      <td>5.737871</td>\n",
       "      <td>10.597844</td>\n",
       "      <td>10.200006</td>\n",
       "      <td>5.026213</td>\n",
       "    </tr>\n",
       "  </tbody>\n",
       "</table>\n",
       "</div>"
      ],
      "text/plain": [
       "            pytorch_A100  pytorch_K80  pytorch_P100  pytorch_V100\n",
       "run_number                                                       \n",
       "1               1.168484     2.114963      2.123889      1.013908\n",
       "2               2.311696     4.247182      4.157760      2.038299\n",
       "3               3.451369     6.359148      6.166132      3.025477\n",
       "4               4.592796     8.475494      8.175537      4.032197\n",
       "5               5.737871    10.597844     10.200006      5.026213"
      ]
     },
     "execution_count": 8,
     "metadata": {},
     "output_type": "execute_result"
    }
   ],
   "source": [
    "for column in df_test:\n",
    "    df_test[column] = df_test[column].cumsum()\n",
    "\n",
    "df_test.head()"
   ]
  },
  {
   "cell_type": "code",
   "execution_count": 9,
   "metadata": {},
   "outputs": [
    {
     "data": {
      "image/png": "[encoded data removed]",
      "text/plain": [
       "<Figure size 432x288 with 1 Axes>"
      ]
     },
     "metadata": {
      "needs_background": "light"
     },
     "output_type": "display_data"
    }
   ],
   "source": [
    "plt.plot(df_test)\n",
    "plt.legend((\"A100\", \"K80\", \"P100\", \"V100\"))\n",
    "plt.title(\"Vanilla PyTorch Benchmarks by GPU\")\n",
    "plt.xlabel(\"Run Number\")\n",
    "plt.ylabel(\"Inference Time (s)\")\n",
    "plt.xticks([1,2,3,4,5,6,7,8,9,10])\n",
    "plt.show()"
   ]
  },
  {
   "cell_type": "code",
   "execution_count": 10,
   "metadata": {},
   "outputs": [],
   "source": [
    "df.loc['mean'] = df.mean()"
   ]
  },
  {
   "cell_type": "code",
   "execution_count": 11,
   "metadata": {},
   "outputs": [
    {
     "data": {
      "text/html": [
       "<div>\n",
       "<style scoped>\n",
       "    .dataframe tbody tr th:only-of-type {\n",
       "        vertical-align: middle;\n",
       "    }\n",
       "\n",
       "    .dataframe tbody tr th {\n",
       "        vertical-align: top;\n",
       "    }\n",
       "\n",
       "    .dataframe thead th {\n",
       "        text-align: right;\n",
       "    }\n",
       "</style>\n",
       "<table border=\"1\" class=\"dataframe\">\n",
       "  <thead>\n",
       "    <tr style=\"text-align: right;\">\n",
       "      <th></th>\n",
       "      <th>pytorch_A100</th>\n",
       "      <th>pytorch_K80</th>\n",
       "      <th>pytorch_P100</th>\n",
       "      <th>pytorch_V100</th>\n",
       "    </tr>\n",
       "    <tr>\n",
       "      <th>run_number</th>\n",
       "      <th></th>\n",
       "      <th></th>\n",
       "      <th></th>\n",
       "      <th></th>\n",
       "    </tr>\n",
       "  </thead>\n",
       "  <tbody>\n",
       "    <tr>\n",
       "      <th>1</th>\n",
       "      <td>1.168484</td>\n",
       "      <td>2.114963</td>\n",
       "      <td>2.123889</td>\n",
       "      <td>1.013908</td>\n",
       "    </tr>\n",
       "    <tr>\n",
       "      <th>2</th>\n",
       "      <td>1.143213</td>\n",
       "      <td>2.132219</td>\n",
       "      <td>2.033871</td>\n",
       "      <td>1.024392</td>\n",
       "    </tr>\n",
       "    <tr>\n",
       "      <th>3</th>\n",
       "      <td>1.139673</td>\n",
       "      <td>2.111966</td>\n",
       "      <td>2.008372</td>\n",
       "      <td>0.987177</td>\n",
       "    </tr>\n",
       "    <tr>\n",
       "      <th>4</th>\n",
       "      <td>1.141427</td>\n",
       "      <td>2.116346</td>\n",
       "      <td>2.009405</td>\n",
       "      <td>1.006721</td>\n",
       "    </tr>\n",
       "    <tr>\n",
       "      <th>5</th>\n",
       "      <td>1.145075</td>\n",
       "      <td>2.122350</td>\n",
       "      <td>2.024469</td>\n",
       "      <td>0.994016</td>\n",
       "    </tr>\n",
       "    <tr>\n",
       "      <th>6</th>\n",
       "      <td>1.148993</td>\n",
       "      <td>2.115161</td>\n",
       "      <td>2.000751</td>\n",
       "      <td>0.987917</td>\n",
       "    </tr>\n",
       "    <tr>\n",
       "      <th>7</th>\n",
       "      <td>1.147879</td>\n",
       "      <td>2.108690</td>\n",
       "      <td>2.032024</td>\n",
       "      <td>0.995026</td>\n",
       "    </tr>\n",
       "    <tr>\n",
       "      <th>8</th>\n",
       "      <td>1.140018</td>\n",
       "      <td>2.152100</td>\n",
       "      <td>1.996825</td>\n",
       "      <td>0.997701</td>\n",
       "    </tr>\n",
       "    <tr>\n",
       "      <th>9</th>\n",
       "      <td>1.142283</td>\n",
       "      <td>2.137542</td>\n",
       "      <td>2.002723</td>\n",
       "      <td>0.993648</td>\n",
       "    </tr>\n",
       "    <tr>\n",
       "      <th>10</th>\n",
       "      <td>1.144584</td>\n",
       "      <td>2.121286</td>\n",
       "      <td>2.002784</td>\n",
       "      <td>0.995104</td>\n",
       "    </tr>\n",
       "    <tr>\n",
       "      <th>mean</th>\n",
       "      <td>1.146163</td>\n",
       "      <td>2.123262</td>\n",
       "      <td>2.023511</td>\n",
       "      <td>0.999561</td>\n",
       "    </tr>\n",
       "  </tbody>\n",
       "</table>\n",
       "</div>"
      ],
      "text/plain": [
       "            pytorch_A100  pytorch_K80  pytorch_P100  pytorch_V100\n",
       "run_number                                                       \n",
       "1               1.168484     2.114963      2.123889      1.013908\n",
       "2               1.143213     2.132219      2.033871      1.024392\n",
       "3               1.139673     2.111966      2.008372      0.987177\n",
       "4               1.141427     2.116346      2.009405      1.006721\n",
       "5               1.145075     2.122350      2.024469      0.994016\n",
       "6               1.148993     2.115161      2.000751      0.987917\n",
       "7               1.147879     2.108690      2.032024      0.995026\n",
       "8               1.140018     2.152100      1.996825      0.997701\n",
       "9               1.142283     2.137542      2.002723      0.993648\n",
       "10              1.144584     2.121286      2.002784      0.995104\n",
       "mean            1.146163     2.123262      2.023511      0.999561"
      ]
     },
     "execution_count": 11,
     "metadata": {},
     "output_type": "execute_result"
    }
   ],
   "source": [
    "df"
   ]
  },
  {
   "cell_type": "code",
   "execution_count": 12,
   "metadata": {},
   "outputs": [
    {
     "data": {
      "text/html": [
       "<div>\n",
       "<style scoped>\n",
       "    .dataframe tbody tr th:only-of-type {\n",
       "        vertical-align: middle;\n",
       "    }\n",
       "\n",
       "    .dataframe tbody tr th {\n",
       "        vertical-align: top;\n",
       "    }\n",
       "\n",
       "    .dataframe thead th {\n",
       "        text-align: right;\n",
       "    }\n",
       "</style>\n",
       "<table border=\"1\" class=\"dataframe\">\n",
       "  <thead>\n",
       "    <tr style=\"text-align: right;\">\n",
       "      <th></th>\n",
       "      <th>pytorch_A100</th>\n",
       "      <th>pytorch_K80</th>\n",
       "      <th>pytorch_P100</th>\n",
       "      <th>pytorch_V100</th>\n",
       "    </tr>\n",
       "    <tr>\n",
       "      <th>run_number</th>\n",
       "      <th></th>\n",
       "      <th></th>\n",
       "      <th></th>\n",
       "      <th></th>\n",
       "    </tr>\n",
       "  </thead>\n",
       "  <tbody>\n",
       "    <tr>\n",
       "      <th>mean</th>\n",
       "      <td>1.146163</td>\n",
       "      <td>2.123262</td>\n",
       "      <td>2.023511</td>\n",
       "      <td>0.999561</td>\n",
       "    </tr>\n",
       "  </tbody>\n",
       "</table>\n",
       "</div>"
      ],
      "text/plain": [
       "            pytorch_A100  pytorch_K80  pytorch_P100  pytorch_V100\n",
       "run_number                                                       \n",
       "mean            1.146163     2.123262      2.023511      0.999561"
      ]
     },
     "execution_count": 12,
     "metadata": {},
     "output_type": "execute_result"
    }
   ],
   "source": [
    "df_means = df.loc[['mean'],:]\n",
    "df_means"
   ]
  },
  {
   "cell_type": "code",
   "execution_count": 13,
   "metadata": {},
   "outputs": [],
   "source": [
    "df_means['crypten_A100'] = 1426.016529"
   ]
  },
  {
   "cell_type": "code",
   "execution_count": 14,
   "metadata": {},
   "outputs": [],
   "source": [
    "df_means['crypten_V100'] = 770.035461"
   ]
  },
  {
   "cell_type": "code",
   "execution_count": 15,
   "metadata": {},
   "outputs": [
    {
     "data": {
      "text/html": [
       "<div>\n",
       "<style scoped>\n",
       "    .dataframe tbody tr th:only-of-type {\n",
       "        vertical-align: middle;\n",
       "    }\n",
       "\n",
       "    .dataframe tbody tr th {\n",
       "        vertical-align: top;\n",
       "    }\n",
       "\n",
       "    .dataframe thead th {\n",
       "        text-align: right;\n",
       "    }\n",
       "</style>\n",
       "<table border=\"1\" class=\"dataframe\">\n",
       "  <thead>\n",
       "    <tr style=\"text-align: right;\">\n",
       "      <th></th>\n",
       "      <th>pytorch_A100</th>\n",
       "      <th>pytorch_K80</th>\n",
       "      <th>pytorch_P100</th>\n",
       "      <th>pytorch_V100</th>\n",
       "      <th>crypten_A100</th>\n",
       "      <th>crypten_V100</th>\n",
       "    </tr>\n",
       "    <tr>\n",
       "      <th>run_number</th>\n",
       "      <th></th>\n",
       "      <th></th>\n",
       "      <th></th>\n",
       "      <th></th>\n",
       "      <th></th>\n",
       "      <th></th>\n",
       "    </tr>\n",
       "  </thead>\n",
       "  <tbody>\n",
       "    <tr>\n",
       "      <th>mean</th>\n",
       "      <td>1.146163</td>\n",
       "      <td>2.123262</td>\n",
       "      <td>2.023511</td>\n",
       "      <td>0.999561</td>\n",
       "      <td>1426.016529</td>\n",
       "      <td>770.035461</td>\n",
       "    </tr>\n",
       "  </tbody>\n",
       "</table>\n",
       "</div>"
      ],
      "text/plain": [
       "            pytorch_A100  pytorch_K80  pytorch_P100  pytorch_V100  \\\n",
       "run_number                                                          \n",
       "mean            1.146163     2.123262      2.023511      0.999561   \n",
       "\n",
       "            crypten_A100  crypten_V100  \n",
       "run_number                              \n",
       "mean         1426.016529    770.035461  "
      ]
     },
     "execution_count": 15,
     "metadata": {},
     "output_type": "execute_result"
    }
   ],
   "source": [
    "df_means"
   ]
  },
  {
   "cell_type": "code",
   "execution_count": 16,
   "metadata": {},
   "outputs": [
    {
     "data": {
      "text/html": [
       "<div>\n",
       "<style scoped>\n",
       "    .dataframe tbody tr th:only-of-type {\n",
       "        vertical-align: middle;\n",
       "    }\n",
       "\n",
       "    .dataframe tbody tr th {\n",
       "        vertical-align: top;\n",
       "    }\n",
       "\n",
       "    .dataframe thead th {\n",
       "        text-align: right;\n",
       "    }\n",
       "</style>\n",
       "<table border=\"1\" class=\"dataframe\">\n",
       "  <thead>\n",
       "    <tr style=\"text-align: right;\">\n",
       "      <th>run_number</th>\n",
       "      <th>mean</th>\n",
       "    </tr>\n",
       "  </thead>\n",
       "  <tbody>\n",
       "    <tr>\n",
       "      <th>pytorch_A100</th>\n",
       "      <td>1.146163</td>\n",
       "    </tr>\n",
       "    <tr>\n",
       "      <th>pytorch_K80</th>\n",
       "      <td>2.123262</td>\n",
       "    </tr>\n",
       "    <tr>\n",
       "      <th>pytorch_P100</th>\n",
       "      <td>2.023511</td>\n",
       "    </tr>\n",
       "    <tr>\n",
       "      <th>pytorch_V100</th>\n",
       "      <td>0.999561</td>\n",
       "    </tr>\n",
       "    <tr>\n",
       "      <th>crypten_A100</th>\n",
       "      <td>1426.016529</td>\n",
       "    </tr>\n",
       "    <tr>\n",
       "      <th>crypten_V100</th>\n",
       "      <td>770.035461</td>\n",
       "    </tr>\n",
       "  </tbody>\n",
       "</table>\n",
       "</div>"
      ],
      "text/plain": [
       "run_number           mean\n",
       "pytorch_A100     1.146163\n",
       "pytorch_K80      2.123262\n",
       "pytorch_P100     2.023511\n",
       "pytorch_V100     0.999561\n",
       "crypten_A100  1426.016529\n",
       "crypten_V100   770.035461"
      ]
     },
     "execution_count": 16,
     "metadata": {},
     "output_type": "execute_result"
    }
   ],
   "source": [
    "df_transpose = df_means.transpose()\n",
    "df_transpose"
   ]
  },
  {
   "cell_type": "code",
   "execution_count": 17,
   "metadata": {},
   "outputs": [
    {
     "data": {
      "image/png": "[encoded data removed]",
      "text/plain": [
       "<Figure size 432x288 with 1 Axes>"
      ]
     },
     "metadata": {
      "needs_background": "light"
     },
     "output_type": "display_data"
    }
   ],
   "source": [
    "df_transpose.plot(kind=\"bar\", title=\"test\")\n",
    "plt.title(\"Vanilla PyTorch vs. Crypten Comparison by GPU\")\n",
    "plt.xlabel(\"GPU\")\n",
    "_ = plt.ylabel(\"Inference Time (s)\")\n",
    "plt.yscale(\"log\")\n",
    "_ = plt.legend('',frameon=False)"
   ]
  },
  {
   "cell_type": "code",
   "execution_count": 18,
   "metadata": {},
   "outputs": [],
   "source": [
    "data = [[1.146163,1426.016529],[2.123262,0],[2.023511,0],\n",
    "       [0.999561,770.035461]]\n",
    "df_final = pd.DataFrame(data, columns=['PyTorch', 'Crypten'])"
   ]
  },
  {
   "cell_type": "code",
   "execution_count": 19,
   "metadata": {},
   "outputs": [
    {
     "data": {
      "text/html": [
       "<div>\n",
       "<style scoped>\n",
       "    .dataframe tbody tr th:only-of-type {\n",
       "        vertical-align: middle;\n",
       "    }\n",
       "\n",
       "    .dataframe tbody tr th {\n",
       "        vertical-align: top;\n",
       "    }\n",
       "\n",
       "    .dataframe thead th {\n",
       "        text-align: right;\n",
       "    }\n",
       "</style>\n",
       "<table border=\"1\" class=\"dataframe\">\n",
       "  <thead>\n",
       "    <tr style=\"text-align: right;\">\n",
       "      <th></th>\n",
       "      <th>PyTorch</th>\n",
       "      <th>Crypten</th>\n",
       "    </tr>\n",
       "    <tr>\n",
       "      <th>GPU</th>\n",
       "      <th></th>\n",
       "      <th></th>\n",
       "    </tr>\n",
       "  </thead>\n",
       "  <tbody>\n",
       "    <tr>\n",
       "      <th>A100</th>\n",
       "      <td>1.146163</td>\n",
       "      <td>1426.016529</td>\n",
       "    </tr>\n",
       "    <tr>\n",
       "      <th>K80</th>\n",
       "      <td>2.123262</td>\n",
       "      <td>0.000000</td>\n",
       "    </tr>\n",
       "    <tr>\n",
       "      <th>P100</th>\n",
       "      <td>2.023511</td>\n",
       "      <td>0.000000</td>\n",
       "    </tr>\n",
       "    <tr>\n",
       "      <th>V100</th>\n",
       "      <td>0.999561</td>\n",
       "      <td>770.035461</td>\n",
       "    </tr>\n",
       "  </tbody>\n",
       "</table>\n",
       "</div>"
      ],
      "text/plain": [
       "       PyTorch      Crypten\n",
       "GPU                        \n",
       "A100  1.146163  1426.016529\n",
       "K80   2.123262     0.000000\n",
       "P100  2.023511     0.000000\n",
       "V100  0.999561   770.035461"
      ]
     },
     "execution_count": 19,
     "metadata": {},
     "output_type": "execute_result"
    }
   ],
   "source": [
    "s = [\"A100\", \"K80\", \"P100\", \"V100\"]\n",
    "df_final['GPU'] = s\n",
    "df_final = df_final.set_index('GPU')\n",
    "df_final"
   ]
  },
  {
   "cell_type": "code",
   "execution_count": 20,
   "metadata": {},
   "outputs": [
    {
     "data": {
      "image/png": "[encoded data removed]",
      "text/plain": [
       "<Figure size 432x288 with 1 Axes>"
      ]
     },
     "metadata": {
      "needs_background": "light"
     },
     "output_type": "display_data"
    }
   ],
   "source": [
    "df_final.plot(kind=\"bar\", title=\"test\")\n",
    "plt.title(\"Vanilla PyTorch vs. Crypten Comparison by GPU\")\n",
    "plt.xlabel(\"GPU\")\n",
    "_ = plt.ylabel(\"Inference Time (s)\")\n",
    "plt.yscale(\"log\")"
   ]
  },
  {
   "cell_type": "code",
   "execution_count": null,
   "metadata": {},
   "outputs": [],
   "source": []
  },
  {
   "cell_type": "code",
   "execution_count": null,
   "metadata": {},
   "outputs": [],
   "source": []
  }
 ],
 "metadata": {
  "kernelspec": {
   "display_name": "Python 3",
   "language": "python",
   "name": "python3"
  },
  "language_info": {
   "codemirror_mode": {
    "name": "ipython",
    "version": 3
   },
   "file_extension": ".py",
   "mimetype": "text/x-python",
   "name": "python",
   "nbconvert_exporter": "python",
   "pygments_lexer": "ipython3",
   "version": "3.10.9 (tags/v3.10.9:1dd9be6, Dec  6 2022, 20:01:21) [MSC v.1934 64 bit (AMD64)]"
  },
  "vscode": {
   "interpreter": {
    "hash": "26de051ba29f2982a8de78e945f0abaf191376122a1563185a90213a26c5da77"
   }
  }
 },
 "nbformat": 4,
 "nbformat_minor": 4
}
